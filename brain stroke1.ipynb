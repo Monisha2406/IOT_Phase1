{
  "cells": [
    {
      "cell_type": "markdown",
      "metadata": {
        "id": "view-in-github",
        "colab_type": "text"
      },
      "source": [
        "<a href=\"https://colab.research.google.com/github/Monisha2406/IOT_Phase1/blob/main/brain%20stroke1.ipynb\" target=\"_parent\"><img src=\"https://colab.research.google.com/assets/colab-badge.svg\" alt=\"Open In Colab\"/></a>"
      ]
    },
    {
      "cell_type": "code",
      "execution_count": 2,
      "id": "ca007d0b",
      "metadata": {
        "id": "ca007d0b"
      },
      "outputs": [],
      "source": [
        "import pandas as pd\n",
        "import numpy as np\n",
        "import matplotlib.pyplot as plt\n",
        "import os, shutil\n",
        "import cv2\n",
        "import matplotlib.image as mpimg\n",
        "import seaborn as sns\n",
        "%matplotlib inline\n",
        "plt.style.use('ggplot')"
      ]
    },
    {
      "cell_type": "code",
      "source": [
        "from google.colab import drive\n",
        "drive.mount('/content/drive')"
      ],
      "metadata": {
        "id": "15TewHeTSm37",
        "outputId": "669a62c5-5379-4b00-e9cc-96a48e0e0b41",
        "colab": {
          "base_uri": "https://localhost:8080/"
        }
      },
      "id": "15TewHeTSm37",
      "execution_count": 1,
      "outputs": [
        {
          "output_type": "stream",
          "name": "stdout",
          "text": [
            "Mounted at /content/drive\n"
          ]
        }
      ]
    },
    {
      "cell_type": "code",
      "execution_count": 3,
      "id": "d6277ca6",
      "metadata": {
        "id": "d6277ca6",
        "outputId": "421b3b4b-266e-4c28-9237-e6d30e91e672",
        "colab": {
          "base_uri": "https://localhost:8080/"
        }
      },
      "outputs": [
        {
          "output_type": "stream",
          "name": "stdout",
          "text": [
            "Requirement already satisfied: opencv-python in /usr/local/lib/python3.10/dist-packages (4.10.0.84)\n",
            "Requirement already satisfied: numpy>=1.21.2 in /usr/local/lib/python3.10/dist-packages (from opencv-python) (1.26.4)\n"
          ]
        }
      ],
      "source": [
        "!pip install opencv-python"
      ]
    },
    {
      "cell_type": "code",
      "execution_count": null,
      "id": "ffa60121",
      "metadata": {
        "id": "ffa60121"
      },
      "outputs": [],
      "source": []
    },
    {
      "cell_type": "code",
      "execution_count": null,
      "id": "1bcfc6d4",
      "metadata": {
        "id": "1bcfc6d4"
      },
      "outputs": [],
      "source": []
    },
    {
      "cell_type": "code",
      "execution_count": 5,
      "id": "d4ea9949",
      "metadata": {
        "id": "d4ea9949",
        "outputId": "70f06e34-8f8f-4dc0-a2f5-a7ce389dd5a4",
        "colab": {
          "base_uri": "https://localhost:8080/"
        }
      },
      "outputs": [
        {
          "output_type": "stream",
          "name": "stdout",
          "text": [
            "1551\n",
            "950\n"
          ]
        }
      ],
      "source": [
        "listyes = os.listdir(\"/content/drive/MyDrive/strokedataset/Brain_Data_Organised/Normal/\")\n",
        "number_files_yes = len(listyes)\n",
        "print(number_files_yes)\n",
        "\n",
        "listno = os.listdir(\"/content/drive/MyDrive/strokedataset/Brain_Data_Organised/Stroke/\")\n",
        "number_files_no = len(listno)\n",
        "print(number_files_no)"
      ]
    },
    {
      "cell_type": "code",
      "execution_count": 6,
      "id": "9f02901b",
      "metadata": {
        "id": "9f02901b",
        "outputId": "6b40ed97-97da-443c-834f-3ae91d7f216a",
        "colab": {
          "base_uri": "https://localhost:8080/",
          "height": 646
        }
      },
      "outputs": [
        {
          "output_type": "display_data",
          "data": {
            "text/plain": [
              "<Figure size 500x700 with 1 Axes>"
            ],
            "image/png": "[encoded data removed]"
          },
          "metadata": {}
        }
      ],
      "source": [
        "data = {'Stroke': number_files_yes, 'Non-stroke': number_files_no}\n",
        "\n",
        "typex = data.keys()\n",
        "values = data.values()\n",
        "\n",
        "fig = plt.figure(figsize=(5,7))\n",
        "\n",
        "plt.bar(typex, values, color=\"red\")\n",
        "\n",
        "plt.xlabel(\"Data\")\n",
        "plt.ylabel(\"No of Brain Stroke Images\")\n",
        "plt.title(\"Count of Brain Stroke Images\")\n",
        "plt.show()"
      ]
    },
    {
      "cell_type": "code",
      "execution_count": 7,
      "id": "f794383c",
      "metadata": {
        "id": "f794383c",
        "outputId": "f853e27c-4b4d-4d2f-83c9-ff8c4d585135",
        "colab": {
          "base_uri": "https://localhost:8080/"
        }
      },
      "outputs": [
        {
          "output_type": "stream",
          "name": "stdout",
          "text": [
            "Requirement already satisfied: tensorflow in /usr/local/lib/python3.10/dist-packages (2.17.0)\n",
            "Requirement already satisfied: absl-py>=1.0.0 in /usr/local/lib/python3.10/dist-packages (from tensorflow) (1.4.0)\n",
            "Requirement already satisfied: astunparse>=1.6.0 in /usr/local/lib/python3.10/dist-packages (from tensorflow) (1.6.3)\n",
            "Requirement already satisfied: flatbuffers>=24.3.25 in /usr/local/lib/python3.10/dist-packages (from tensorflow) (24.3.25)\n",
            "Requirement already satisfied: gast!=0.5.0,!=0.5.1,!=0.5.2,>=0.2.1 in /usr/local/lib/python3.10/dist-packages (from tensorflow) (0.6.0)\n",
            "Requirement already satisfied: google-pasta>=0.1.1 in /usr/local/lib/python3.10/dist-packages (from tensorflow) (0.2.0)\n",
            "Requirement already satisfied: h5py>=3.10.0 in /usr/local/lib/python3.10/dist-packages (from tensorflow) (3.12.1)\n",
            "Requirement already satisfied: libclang>=13.0.0 in /usr/local/lib/python3.10/dist-packages (from tensorflow) (18.1.1)\n",
            "Requirement already satisfied: ml-dtypes<0.5.0,>=0.3.1 in /usr/local/lib/python3.10/dist-packages (from tensorflow) (0.4.1)\n",
            "Requirement already satisfied: opt-einsum>=2.3.2 in /usr/local/lib/python3.10/dist-packages (from tensorflow) (3.4.0)\n",
            "Requirement already satisfied: packaging in /usr/local/lib/python3.10/dist-packages (from tensorflow) (24.1)\n",
            "Requirement already satisfied: protobuf!=4.21.0,!=4.21.1,!=4.21.2,!=4.21.3,!=4.21.4,!=4.21.5,<5.0.0dev,>=3.20.3 in /usr/local/lib/python3.10/dist-packages (from tensorflow) (3.20.3)\n",
            "Requirement already satisfied: requests<3,>=2.21.0 in /usr/local/lib/python3.10/dist-packages (from tensorflow) (2.32.3)\n",
            "Requirement already satisfied: setuptools in /usr/local/lib/python3.10/dist-packages (from tensorflow) (75.1.0)\n",
            "Requirement already satisfied: six>=1.12.0 in /usr/local/lib/python3.10/dist-packages (from tensorflow) (1.16.0)\n",
            "Requirement already satisfied: termcolor>=1.1.0 in /usr/local/lib/python3.10/dist-packages (from tensorflow) (2.5.0)\n",
            "Requirement already satisfied: typing-extensions>=3.6.6 in /usr/local/lib/python3.10/dist-packages (from tensorflow) (4.12.2)\n",
            "Requirement already satisfied: wrapt>=1.11.0 in /usr/local/lib/python3.10/dist-packages (from tensorflow) (1.16.0)\n",
            "Requirement already satisfied: grpcio<2.0,>=1.24.3 in /usr/local/lib/python3.10/dist-packages (from tensorflow) (1.64.1)\n",
            "Requirement already satisfied: tensorboard<2.18,>=2.17 in /usr/local/lib/python3.10/dist-packages (from tensorflow) (2.17.0)\n",
            "Requirement already satisfied: keras>=3.2.0 in /usr/local/lib/python3.10/dist-packages (from tensorflow) (3.4.1)\n",
            "Requirement already satisfied: tensorflow-io-gcs-filesystem>=0.23.1 in /usr/local/lib/python3.10/dist-packages (from tensorflow) (0.37.1)\n",
            "Requirement already satisfied: numpy<2.0.0,>=1.23.5 in /usr/local/lib/python3.10/dist-packages (from tensorflow) (1.26.4)\n",
            "Requirement already satisfied: wheel<1.0,>=0.23.0 in /usr/local/lib/python3.10/dist-packages (from astunparse>=1.6.0->tensorflow) (0.44.0)\n",
            "Requirement already satisfied: rich in /usr/local/lib/python3.10/dist-packages (from keras>=3.2.0->tensorflow) (13.9.3)\n",
            "Requirement already satisfied: namex in /usr/local/lib/python3.10/dist-packages (from keras>=3.2.0->tensorflow) (0.0.8)\n",
            "Requirement already satisfied: optree in /usr/local/lib/python3.10/dist-packages (from keras>=3.2.0->tensorflow) (0.13.0)\n",
            "Requirement already satisfied: charset-normalizer<4,>=2 in /usr/local/lib/python3.10/dist-packages (from requests<3,>=2.21.0->tensorflow) (3.4.0)\n",
            "Requirement already satisfied: idna<4,>=2.5 in /usr/local/lib/python3.10/dist-packages (from requests<3,>=2.21.0->tensorflow) (3.10)\n",
            "Requirement already satisfied: urllib3<3,>=1.21.1 in /usr/local/lib/python3.10/dist-packages (from requests<3,>=2.21.0->tensorflow) (2.2.3)\n",
            "Requirement already satisfied: certifi>=2017.4.17 in /usr/local/lib/python3.10/dist-packages (from requests<3,>=2.21.0->tensorflow) (2024.8.30)\n",
            "Requirement already satisfied: markdown>=2.6.8 in /usr/local/lib/python3.10/dist-packages (from tensorboard<2.18,>=2.17->tensorflow) (3.7)\n",
            "Requirement already satisfied: tensorboard-data-server<0.8.0,>=0.7.0 in /usr/local/lib/python3.10/dist-packages (from tensorboard<2.18,>=2.17->tensorflow) (0.7.2)\n",
            "Requirement already satisfied: werkzeug>=1.0.1 in /usr/local/lib/python3.10/dist-packages (from tensorboard<2.18,>=2.17->tensorflow) (3.0.6)\n",
            "Requirement already satisfied: MarkupSafe>=2.1.1 in /usr/local/lib/python3.10/dist-packages (from werkzeug>=1.0.1->tensorboard<2.18,>=2.17->tensorflow) (3.0.2)\n",
            "Requirement already satisfied: markdown-it-py>=2.2.0 in /usr/local/lib/python3.10/dist-packages (from rich->keras>=3.2.0->tensorflow) (3.0.0)\n",
            "Requirement already satisfied: pygments<3.0.0,>=2.13.0 in /usr/local/lib/python3.10/dist-packages (from rich->keras>=3.2.0->tensorflow) (2.18.0)\n",
            "Requirement already satisfied: mdurl~=0.1 in /usr/local/lib/python3.10/dist-packages (from markdown-it-py>=2.2.0->rich->keras>=3.2.0->tensorflow) (0.1.2)\n"
          ]
        }
      ],
      "source": [
        " !pip install tensorflow"
      ]
    },
    {
      "cell_type": "code",
      "execution_count": null,
      "id": "e3d620f3",
      "metadata": {
        "id": "e3d620f3"
      },
      "outputs": [],
      "source": [
        "import pandas as pd\n",
        "import numpy as np\n",
        "import matplotlib.pyplot as plt\n",
        "import os, shutil\n",
        "import cv2\n",
        "import matplotlib.image as mpimg\n",
        "import seaborn as sns\n",
        "%matplotlib inline\n",
        "plt.style.use('ggplot')"
      ]
    },
    {
      "cell_type": "code",
      "execution_count": null,
      "id": "bc2f1dc3",
      "metadata": {
        "id": "bc2f1dc3"
      },
      "outputs": [],
      "source": [
        "import tensorflow as tf\n",
        "from tensorflow.keras.preprocessing.image import ImageDataGenerator\n",
        "from tensorflow.keras.models import Model\n",
        "from tensorflow.keras.layers import Flatten, Dense, Dropout\n",
        "from tensorflow.keras.applications.vgg19 import VGG19\n",
        "from tensorflow.keras.optimizers import SGD, Adam\n",
        "from tensorflow.keras.callbacks import ModelCheckpoint, EarlyStopping, ReduceLROnPlateau"
      ]
    },
    {
      "cell_type": "code",
      "execution_count": null,
      "id": "38438926",
      "metadata": {
        "id": "38438926"
      },
      "outputs": [],
      "source": [
        "def timing(sec_elapsed):\n",
        "    h = int(sec_elapsed / (60*60))\n",
        "    m = int(sec_elapsed % (60*60) / 60)\n",
        "    s = sec_elapsed % 60\n",
        "    return f\"{h}:{m}:{s}\""
      ]
    },
    {
      "cell_type": "code",
      "execution_count": null,
      "id": "06bc96ec",
      "metadata": {
        "id": "06bc96ec"
      },
      "outputs": [],
      "source": [
        "def augmented_data(file_dir, n_generated_samples, save_to_dir):\n",
        "    data_gen = ImageDataGenerator(rotation_range=10,\n",
        "                      width_shift_range=0.1,\n",
        "                      height_shift_range=0.1,\n",
        "                      shear_range=0.1,\n",
        "                      brightness_range=(0.3, 1.0),\n",
        "                      horizontal_flip=True,\n",
        "                      vertical_flip=True,\n",
        "                      fill_mode='nearest')\n",
        "    for filename in os.listdir(file_dir):\n",
        "        image = cv2.imread(file_dir + '/' + filename)\n",
        "        image = image.reshape((1,) + image.shape)\n",
        "        save_prefix = 'aug_' + filename[:-4]\n",
        "        i=0\n",
        "        for batch in data_gen.flow(x = image, batch_size = 1, save_to_dir = save_to_dir, save_prefix = save_prefix, save_format = \"jpg\"):\n",
        "            i+=1\n",
        "            if i>n_generated_samples:\n",
        "                break"
      ]
    },
    {
      "cell_type": "code",
      "execution_count": null,
      "id": "a7b089e8",
      "metadata": {
        "id": "a7b089e8"
      },
      "outputs": [],
      "source": [
        "import time\n",
        "start_time = time.time()\n",
        "\n",
        "yes_path = 'img/Stroke'\n",
        "no_path = 'img/Normal'\n",
        "\n",
        "augmented_data_path = 'augmented_data/'\n",
        "\n",
        "augmented_data(file_dir = yes_path, n_generated_samples=6, save_to_dir=augmented_data_path+'yes')\n",
        "augmented_data(file_dir = no_path, n_generated_samples=9, save_to_dir=augmented_data_path+'no')\n",
        "\n",
        "end_time = time.time()\n",
        "execution_time = end_time - start_time\n",
        "print(timing(execution_time))"
      ]
    },
    {
      "cell_type": "code",
      "execution_count": null,
      "id": "ad5e9a9f",
      "metadata": {
        "id": "ad5e9a9f"
      },
      "outputs": [],
      "source": [
        "def data_summary(main_path):\n",
        "    yes_path = \"augmented_data/yes/\"\n",
        "    no_path = \"augmented_data/no/\"\n",
        "\n",
        "    n_pos = len(os.listdir(yes_path))\n",
        "    n_neg = len(os.listdir(no_path))\n",
        "\n",
        "    n = (n_pos + n_neg)\n",
        "\n",
        "    pos_per = (n_pos*100)/n\n",
        "    neg_per = (n_neg*100)/n\n",
        "\n",
        "    print(f\"Number of sample: {n}\")\n",
        "    print(f\"{n_pos} Number of positive sample in percentage: {pos_per}%\")\n",
        "    print(f\"{n_neg} Number of negative sample in percentage: {neg_per}%\")"
      ]
    },
    {
      "cell_type": "code",
      "execution_count": null,
      "id": "92a4860b",
      "metadata": {
        "id": "92a4860b"
      },
      "outputs": [],
      "source": [
        "data_summary(augmented_data_path)"
      ]
    },
    {
      "cell_type": "code",
      "execution_count": null,
      "id": "6d3439d5",
      "metadata": {
        "id": "6d3439d5"
      },
      "outputs": [],
      "source": [
        "listyes = os.listdir(\"augmented_data/yes/\")\n",
        "number_files_yes = len(listyes)\n",
        "print(number_files_yes)\n",
        "\n",
        "listno = os.listdir(\"augmented_data/no/\")\n",
        "number_files_no = len(listno)\n",
        "print(number_files_no)"
      ]
    },
    {
      "cell_type": "code",
      "execution_count": null,
      "id": "67672b35",
      "metadata": {
        "id": "67672b35"
      },
      "outputs": [],
      "source": [
        "data = {'Stroke': number_files_yes, 'Non-stroke': number_files_no}\n",
        "\n",
        "typex = data.keys()\n",
        "values = data.values()\n",
        "\n",
        "fig = plt.figure(figsize=(5,7))\n",
        "\n",
        "plt.bar(typex, values, color=\"red\")\n",
        "\n",
        "plt.xlabel(\"Data\")\n",
        "plt.ylabel(\"No of Brain Stroke Images\")\n",
        "plt.title(\"Count of Brain Stroke Images\")\n",
        "plt.show()"
      ]
    },
    {
      "cell_type": "code",
      "execution_count": null,
      "id": "52a3be33",
      "metadata": {
        "id": "52a3be33"
      },
      "outputs": [],
      "source": [
        "import imutils\n",
        "def crop_brain_stroke(image, plot=False):\n",
        "    gray = cv2.cvtColor(image, cv2.COLOR_BGR2GRAY)\n",
        "    gray = cv2.GaussianBlur(gray, (5,5), 0)\n",
        "\n",
        "    thres = cv2.threshold(gray, 45, 255, cv2.THRESH_BINARY)[1]\n",
        "    thres =cv2.erode(thres, None, iterations = 2)\n",
        "    thres = cv2.dilate(thres, None, iterations = 2)\n",
        "\n",
        "    cnts = cv2.findContours(thres.copy(), cv2.RETR_EXTERNAL, cv2.CHAIN_APPROX_SIMPLE)\n",
        "    cnts = imutils.grab_contours(cnts)\n",
        "    c = max(cnts, key = cv2.contourArea)\n",
        "\n",
        "    extLeft = tuple(c[c[:,:,0].argmin()][0])\n",
        "    extRight = tuple(c[c[:,:,0].argmax()][0])\n",
        "    extTop = tuple(c[c[:,:,1].argmin()][0])\n",
        "    extBot = tuple(c[c[:,:,1].argmax()][0])\n",
        "\n",
        "    new_image = image[extTop[1]:extBot[1], extLeft[0]:extRight[0]]\n",
        "\n",
        "    if plot:\n",
        "        plt.figure()\n",
        "        plt.subplot(1, 2, 1)\n",
        "        plt.imshow(image)\n",
        "\n",
        "        plt.tick_params(axis='both', which='both',\n",
        "                        top=False, bottom=False, left=False, right=False,\n",
        "                        labelbottom=False, labeltop=False, labelleft=False, labelright=False)\n",
        "\n",
        "        plt.title('Original Image')\n",
        "\n",
        "        plt.subplot(1, 2, 2)\n",
        "        plt.imshow(new_image)\n",
        "\n",
        "        plt.tick_params(axis='both', which='both',\n",
        "                        top=False, bottom=False, left=False, right=False,\n",
        "                        labelbottom=False, labeltop=False, labelleft=False, labelright=False)\n",
        "\n",
        "        plt.title('Cropped Image')\n",
        "        plt.show()\n",
        "    return new_image"
      ]
    },
    {
      "cell_type": "code",
      "execution_count": null,
      "id": "2faeb205",
      "metadata": {
        "id": "2faeb205"
      },
      "outputs": [],
      "source": [
        "\n",
        "img = cv2.imread('augmented_data/yes/aug_Y_1_0_1760.jpg')\n",
        "crop_brain_stroke(img, True)"
      ]
    },
    {
      "cell_type": "code",
      "execution_count": null,
      "id": "e83d64a2",
      "metadata": {
        "id": "e83d64a2"
      },
      "outputs": [],
      "source": [
        "\n",
        "img = cv2.imread('augmented_data/no/aug_N_1_0_109.jpg')\n",
        "crop_brain_stroke(img, True)"
      ]
    },
    {
      "cell_type": "code",
      "execution_count": null,
      "id": "31616826",
      "metadata": {
        "id": "31616826"
      },
      "outputs": [],
      "source": [
        "\n",
        "folder1 = 'augmented_data/no/'\n",
        "folder2 = 'augmented_data/yes/'\n",
        "\n",
        "for filename in os.listdir(folder1):\n",
        "    img = cv2.imread(folder1 + filename)\n",
        "    img = crop_brain_stroke(img, False)\n",
        "    cv2.imwrite(folder1 + filename, img)\n",
        "for filename in os.listdir(folder2):\n",
        "    img = cv2.imread(folder2 + filename)\n",
        "    img = crop_brain_stroke(img, False)\n",
        "    cv2.imwrite(folder2 + filename, img)"
      ]
    },
    {
      "cell_type": "code",
      "execution_count": null,
      "id": "983fa371",
      "metadata": {
        "id": "983fa371"
      },
      "outputs": [],
      "source": [
        "from sklearn.utils import shuffle\n",
        "def load_data(dir_list, image_size):\n",
        "    X=[]\n",
        "    y=[]\n",
        "\n",
        "    image_width, image_height=image_size\n",
        "\n",
        "    for directory in dir_list:\n",
        "        for filename in os.listdir(directory):\n",
        "            image = cv2.imread(directory + '/' + filename)\n",
        "            image = crop_brain_stroke(image, plot=False)\n",
        "            image = cv2.resize(image, dsize=(image_width, image_height), interpolation = cv2.INTER_CUBIC)\n",
        "            image = image/255.00\n",
        "            X.append(image)\n",
        "            if directory[-3:] == \"yes\":\n",
        "                y.append(1)\n",
        "            else:\n",
        "                y.append(0)\n",
        "    X=np.array(X)\n",
        "    y=np.array(y)\n",
        "\n",
        "    X,y = shuffle(X,y)\n",
        "    print(f\"Number of example is : {len(X)}\")\n",
        "    print(f\"X SHAPE is : {X.shape}\")\n",
        "    print(f\"y SHAPE is : {y.shape}\")\n",
        "    return X,y"
      ]
    },
    {
      "cell_type": "code",
      "execution_count": null,
      "id": "f1264992",
      "metadata": {
        "id": "f1264992"
      },
      "outputs": [],
      "source": [
        "augmented_path = 'augmented_data/'\n",
        "augmeneted_yes = augmented_path + 'yes'\n",
        "augmeneted_no = augmented_path + 'no'\n",
        "\n",
        "IMAGE_WIDTH, IMAGE_HEIGHT = (240,240)\n",
        "\n",
        "X,y = load_data([augmeneted_yes, augmeneted_no], (IMAGE_WIDTH, IMAGE_HEIGHT))\n"
      ]
    },
    {
      "cell_type": "code",
      "execution_count": null,
      "id": "e3aab03a",
      "metadata": {
        "id": "e3aab03a"
      },
      "outputs": [],
      "source": [
        "def plot_sample_images(X, y, n=50):\n",
        "\n",
        "    for label in [0,1]:\n",
        "        images = X[np.argwhere(y == label)]\n",
        "        n_images = images[:n]\n",
        "\n",
        "        columns_n = 10\n",
        "        rows_n = int(n/ columns_n)\n",
        "\n",
        "        plt.figure(figsize=(20, 10))\n",
        "\n",
        "        i = 1\n",
        "        for image in n_images:\n",
        "            plt.subplot(rows_n, columns_n, i)\n",
        "            plt.imshow(image[0])\n",
        "\n",
        "            plt.tick_params(axis='both', which='both',\n",
        "                            top=False, bottom=False, left=False, right=False,\n",
        "                            labelbottom=False, labeltop=False, labelleft=False,\n",
        "                            labelright=False)\n",
        "\n",
        "            i += 1\n",
        "\n",
        "        label_to_str = lambda label: \"Yes\" if label == 1 else \"No\"\n",
        "        plt.suptitle(f\"Brain Storke: {label_to_str(label)}\")\n",
        "        plt.show()"
      ]
    },
    {
      "cell_type": "code",
      "execution_count": null,
      "id": "bf68bc61",
      "metadata": {
        "id": "bf68bc61"
      },
      "outputs": [],
      "source": [
        "plot_sample_images(X,y)"
      ]
    },
    {
      "cell_type": "code",
      "execution_count": null,
      "id": "b5c25206",
      "metadata": {
        "id": "b5c25206"
      },
      "outputs": [],
      "source": [
        "\n",
        "if not os.path.isdir('Stroke_and_nonstroke'):\n",
        "    base_dir = 'Stroke_and_nonstroke'\n",
        "    os.mkdir(base_dir)"
      ]
    },
    {
      "cell_type": "code",
      "execution_count": null,
      "id": "8cfbea65",
      "metadata": {
        "id": "8cfbea65"
      },
      "outputs": [],
      "source": [
        "if not os.path.isdir('Stroke_and_nonstroke/train'):\n",
        "    train_dir = os.path.join(base_dir , 'train')\n",
        "    os.mkdir(train_dir)\n",
        "if not os.path.isdir('Stroke_and_nonstroke/test'):\n",
        "    test_dir = os.path.join(base_dir , 'test')\n",
        "    os.mkdir(test_dir)\n",
        "if not os.path.isdir('Stroke_and_nonstroke/valid'):\n",
        "    valid_dir = os.path.join(base_dir , 'valid')\n",
        "    os.mkdir(valid_dir)"
      ]
    },
    {
      "cell_type": "code",
      "execution_count": null,
      "id": "db55075a",
      "metadata": {
        "id": "db55075a"
      },
      "outputs": [],
      "source": [
        "if not os.path.isdir('Stroke_and_nonstroke/train/stroke'):\n",
        "    infected_train_dir = os.path.join(train_dir, 'stroke')\n",
        "    os.mkdir(infected_train_dir)\n",
        "if not os.path.isdir('Stroke_and_nonstroke/test/stroke'):\n",
        "    infected_test_dir = os.path.join(test_dir, 'stroke')\n",
        "    os.mkdir(infected_test_dir)\n",
        "if not os.path.isdir('Stroke_and_nonstroke/valid/stroke'):\n",
        "    infected_valid_dir = os.path.join(valid_dir, 'stroke')\n",
        "    os.mkdir(infected_valid_dir)\n"
      ]
    },
    {
      "cell_type": "code",
      "execution_count": null,
      "id": "809f7ac4",
      "metadata": {
        "id": "809f7ac4"
      },
      "outputs": [],
      "source": [
        "if not os.path.isdir('Stroke_and_nonstroke/train/nonstroke'):\n",
        "    healthy_train_dir = os.path.join(train_dir, 'nonstroke')\n",
        "    os.mkdir(healthy_train_dir)\n",
        "if not os.path.isdir('Stroke_and_nonstroke/test/nonstroke'):\n",
        "    healthy_test_dir = os.path.join(test_dir, 'nonstroke')\n",
        "    os.mkdir(healthy_test_dir)\n",
        "if not os.path.isdir('Stroke_and_nonstroke/valid/nonstroke'):\n",
        "    healthy_valid_dir = os.path.join(valid_dir, 'nonstroke')\n",
        "    os.mkdir(healthy_valid_dir)"
      ]
    },
    {
      "cell_type": "code",
      "execution_count": null,
      "id": "1cda9084",
      "metadata": {
        "id": "1cda9084"
      },
      "outputs": [],
      "source": [
        "original_dataset_stroke = os.path.join('augmented_data','yes/')\n",
        "original_dataset_nonstroke = os.path.join('augmented_data','no/')"
      ]
    },
    {
      "cell_type": "code",
      "execution_count": null,
      "id": "95e34c12",
      "metadata": {
        "id": "95e34c12"
      },
      "outputs": [],
      "source": [
        "\n",
        "files = os.listdir('augmented_data/yes/')\n",
        "fnames = []\n",
        "for i in range(0,759):\n",
        "    fnames.append(files[i])\n",
        "for fname in fnames:\n",
        "    src = os.path.join(original_dataset_stroke, fname)\n",
        "    dst = os.path.join(infected_train_dir, fname)\n",
        "    shutil.copyfile(src, dst)\n"
      ]
    },
    {
      "cell_type": "code",
      "execution_count": null,
      "id": "470e0ddc",
      "metadata": {
        "id": "470e0ddc"
      },
      "outputs": [],
      "source": [
        "files = os.listdir('augmented_data/yes/')\n",
        "fnames = []\n",
        "for i in range(759,922):\n",
        "    fnames.append(files[i])\n",
        "for fname in fnames:\n",
        "    src = os.path.join(original_dataset_stroke, fname)\n",
        "    dst = os.path.join(infected_test_dir, fname)\n",
        "    shutil.copyfile(src, dst)"
      ]
    },
    {
      "cell_type": "code",
      "execution_count": null,
      "id": "6d398647",
      "metadata": {
        "id": "6d398647"
      },
      "outputs": [],
      "source": [
        "files = os.listdir('augmented_data/yes/')\n",
        "fnames = []\n",
        "for i in range(922,1085):\n",
        "    fnames.append(files[i])\n",
        "for fname in fnames:\n",
        "    src = os.path.join(original_dataset_stroke, fname)\n",
        "    dst = os.path.join(infected_valid_dir, fname)\n",
        "    shutil.copyfile(src, dst)"
      ]
    },
    {
      "cell_type": "code",
      "execution_count": null,
      "id": "a183884c",
      "metadata": {
        "id": "a183884c"
      },
      "outputs": [],
      "source": [
        "\n",
        "files = os.listdir('augmented_data/no/')\n",
        "fnames = []\n",
        "for i in range(0,686):\n",
        "    fnames.append(files[i])\n",
        "for fname in fnames:\n",
        "    src = os.path.join(original_dataset_nonstroke, fname)\n",
        "    dst = os.path.join(healthy_train_dir, fname)\n",
        "    shutil.copyfile(src, dst)"
      ]
    },
    {
      "cell_type": "code",
      "execution_count": null,
      "id": "fb3d3866",
      "metadata": {
        "id": "fb3d3866"
      },
      "outputs": [],
      "source": [
        "\n",
        "files = os.listdir('augmented_data/no/')\n",
        "fnames = []\n",
        "for i in range(686,833):\n",
        "    fnames.append(files[i])\n",
        "for fname in fnames:\n",
        "    src = os.path.join(original_dataset_nonstroke, fname)\n",
        "    dst = os.path.join(healthy_test_dir, fname)\n",
        "    shutil.copyfile(src, dst)"
      ]
    },
    {
      "cell_type": "code",
      "execution_count": null,
      "id": "2b67db62",
      "metadata": {
        "id": "2b67db62"
      },
      "outputs": [],
      "source": [
        "files = os.listdir('augmented_data/no/')\n",
        "fnames = []\n",
        "for i in range(833,979):\n",
        "    fnames.append(files[i])\n",
        "for fname in fnames:\n",
        "    src = os.path.join(original_dataset_nonstroke, fname)\n",
        "    dst = os.path.join(healthy_valid_dir, fname)\n",
        "    shutil.copyfile(src, dst)"
      ]
    },
    {
      "cell_type": "code",
      "execution_count": null,
      "id": "07ef0c3b",
      "metadata": {
        "id": "07ef0c3b"
      },
      "outputs": [],
      "source": [
        "train_datagen = ImageDataGenerator(rescale = 1./255,\n",
        "                  horizontal_flip=0.4,\n",
        "                  vertical_flip=0.4,\n",
        "                  rotation_range=40,\n",
        "                  shear_range=0.2,\n",
        "                  width_shift_range=0.4,\n",
        "                  height_shift_range=0.4,\n",
        "                  fill_mode='nearest')\n",
        "test_data_gen = ImageDataGenerator(rescale=1.0/255)\n",
        "valid_data_gen = ImageDataGenerator(rescale=1.0/255)"
      ]
    },
    {
      "cell_type": "code",
      "execution_count": null,
      "id": "a13a2753",
      "metadata": {
        "id": "a13a2753"
      },
      "outputs": [],
      "source": [
        "train_generator = train_datagen.flow_from_directory('Stroke_and_nonstroke/train/', batch_size=32, target_size=(240,240), class_mode='categorical',shuffle=True, seed = 42, color_mode = 'rgb')"
      ]
    },
    {
      "cell_type": "code",
      "execution_count": null,
      "id": "7cc40245",
      "metadata": {
        "id": "7cc40245"
      },
      "outputs": [],
      "source": [
        "est_generator = train_datagen.flow_from_directory('Stroke_and_nonstroke/test/', batch_size=32, target_size=(240,240), class_mode='categorical',shuffle=True, seed = 42, color_mode = 'rgb')"
      ]
    },
    {
      "cell_type": "code",
      "execution_count": null,
      "id": "571ea3dc",
      "metadata": {
        "id": "571ea3dc"
      },
      "outputs": [],
      "source": [
        "valid_generator = train_datagen.flow_from_directory('Stroke_and_nonstroke/valid/', batch_size=32, target_size=(240,240), class_mode='categorical',shuffle=True, seed = 42, color_mode = 'rgb')"
      ]
    },
    {
      "cell_type": "code",
      "execution_count": null,
      "id": "e053ed07",
      "metadata": {
        "id": "e053ed07"
      },
      "outputs": [],
      "source": [
        "class_labels = train_generator.class_indices\n",
        "class_name = {value: key for (key,value) in class_labels.items()}"
      ]
    },
    {
      "cell_type": "code",
      "execution_count": null,
      "id": "188c52cf",
      "metadata": {
        "id": "188c52cf"
      },
      "outputs": [],
      "source": [
        "class_name"
      ]
    },
    {
      "cell_type": "code",
      "execution_count": null,
      "id": "c0b3ce54",
      "metadata": {
        "id": "c0b3ce54"
      },
      "outputs": [],
      "source": [
        "base_model = VGG19(input_shape = (240,240,3), include_top=False, weights='imagenet')\n",
        "\n",
        "for layer in base_model.layers:\n",
        "    layer.trainable=False\n",
        "\n",
        "x=base_model.output\n",
        "flat = Flatten()(x)\n",
        "\n",
        "class_1 = Dense(4608, activation = 'relu')(flat)\n",
        "drop_out = Dropout(0.2)(class_1)\n",
        "class_2 = Dense(1152, activation = 'relu')(drop_out)\n",
        "output = Dense(2, activation = 'softmax')(class_2)\n",
        "\n",
        "model_01 = Model(base_model.input, output)\n",
        "model_01.summary()"
      ]
    },
    {
      "cell_type": "code",
      "execution_count": null,
      "id": "4c32af47",
      "metadata": {
        "id": "4c32af47"
      },
      "outputs": [],
      "source": [
        "filepath = 'model.h5'\n",
        "es = EarlyStopping(monitor='val_loss', verbose = 1, mode='min',patience=4)\n",
        "cp = ModelCheckpoint(filepath, monitor='val_loss', verbose = 1, save_best_only=True, save_weights_only=False, mode='auto',save_freq='epoch')\n",
        "lrr = ReduceLROnPlateau(monitor='val_accuarcy', patience=3, verbose = 1, factor = 0.5, min_lr = 0.0001)"
      ]
    },
    {
      "cell_type": "code",
      "execution_count": null,
      "id": "ca305b39",
      "metadata": {
        "id": "ca305b39"
      },
      "outputs": [],
      "source": [
        "sgd = SGD(learning_rate=0.0001, decay = 1e-6, momentum = 0.9, nesterov = True)\n",
        "model_01.compile(loss='categorical_crossentropy', optimizer = sgd, metrics=['accuracy'])\n"
      ]
    },
    {
      "cell_type": "code",
      "execution_count": null,
      "id": "a9a2b232",
      "metadata": {
        "id": "a9a2b232"
      },
      "outputs": [],
      "source": [
        "history_01 = model_01.fit(train_generator, steps_per_epoch=10, epochs = 2, callbacks=[es,cp,lrr], validation_data=valid_generator)\n"
      ]
    },
    {
      "cell_type": "code",
      "execution_count": null,
      "id": "dff2fc9c",
      "metadata": {
        "id": "dff2fc9c"
      },
      "outputs": [],
      "source": [
        "fig, (ax1,ax2) = plt.subplots(nrows=1, ncols=2, figsize=(12,6))\n",
        "fig.suptitle(\"Model Training (Frozen CNN)\", fontsize=12)\n",
        "max_epoch = len(history_01.history['accuracy'])+1\n",
        "epochs_list = list(range(1, max_epoch))\n",
        "\n",
        "ax1.plot(epochs_list, history_01.history['accuracy'], color='b', linestyle='-', label='Training Data')\n",
        "ax1.plot(epochs_list, history_01.history['val_accuracy'], color='r', linestyle='-', label='Validation Data')\n",
        "ax1.set_title('Training Accuracy', fontsize=12)\n",
        "ax1.set_xlabel('Epochs', fontsize=12)\n",
        "ax1.set_ylabel('Accuracy', fontsize=12)\n",
        "ax1.legend(frameon=False, loc='lower center', ncol=2)\n",
        "\n",
        "ax2.plot(epochs_list, history_01.history['loss'], color='b', linestyle='-', label='Training Data')\n",
        "ax2.plot(epochs_list, history_01.history['val_loss'], color='r', linestyle='-', label='Validation Data')\n",
        "ax2.set_title('Training Loss', fontsize=12)\n",
        "ax2.set_xlabel('Epochs', fontsize=12)\n",
        "ax2.set_ylabel('Loss', fontsize=12)\n",
        "ax2.legend(frameon=False, loc='upper center', ncol=2)\n",
        "plt.savefig(\"training_frozencnn.jpeg\", format='jpeg', dpi=100, bbox_inches='tight')"
      ]
    },
    {
      "cell_type": "code",
      "execution_count": null,
      "id": "3d7cc14d",
      "metadata": {
        "id": "3d7cc14d"
      },
      "outputs": [],
      "source": [
        "if not os.path.isdir('model_weights/'):\n",
        "    os.mkdir('model_weights/')\n",
        "model_01.save_weights(filepath=\"model_weights/vgg19_model_01.h5\", overwrite=True)"
      ]
    },
    {
      "cell_type": "code",
      "execution_count": null,
      "id": "16256345",
      "metadata": {
        "id": "16256345"
      },
      "outputs": [],
      "source": [
        "model_01.load_weights(\"model_weights/vgg19_model_01.h5\")\n",
        "vgg_val_eval_01 = model_01.evaluate(valid_generator)\n",
        "vgg_test_eval_01 = model_01.evaluate(test_generator)"
      ]
    },
    {
      "cell_type": "code",
      "execution_count": null,
      "id": "803b522c",
      "metadata": {
        "id": "803b522c"
      },
      "outputs": [],
      "source": [
        "print(f'Validation Loss: {vgg_val_eval_01[0]}')\n",
        "print(f'Validation Acc: {vgg_val_eval_01[1]}')\n",
        "print(f'Testing Loss: {vgg_test_eval_01[0]}')\n",
        "print(f'Testing Acc: {vgg_test_eval_01[1]}')"
      ]
    },
    {
      "cell_type": "code",
      "execution_count": null,
      "id": "780ecbda",
      "metadata": {
        "id": "780ecbda"
      },
      "outputs": [],
      "source": [
        "filenames = test_generator.filenames\n",
        "nb_sample = len(filenames)\n",
        "\n",
        "vgg_prediction_01 = model_01.predict(test_generator, steps=nb_sample, verbose = 1)\n",
        "y_pred = np.argmax(vgg_prediction_01, axis=1)"
      ]
    },
    {
      "cell_type": "code",
      "execution_count": null,
      "id": "e5cae735",
      "metadata": {
        "id": "e5cae735"
      },
      "outputs": [],
      "source": [
        "base_model = VGG19(include_top=False, input_shape=(240,240,3))\n",
        "base_model_layer_names = [layer.name for layer in base_model.layers]\n",
        "base_model_layer_names"
      ]
    },
    {
      "cell_type": "code",
      "execution_count": null,
      "id": "377b7908",
      "metadata": {
        "id": "377b7908"
      },
      "outputs": [],
      "source": [
        "base_model = VGG19(include_top=False, input_shape=(240,240,3))\n",
        "base_model_layer_names = [layer.name for layer in base_model.layers]\n",
        "base_model_layer_names\n",
        "\n",
        "x=base_model.output\n",
        "flat = Flatten()(x)\n",
        "\n",
        "class_1 = Dense(4608, activation = 'relu')(flat)\n",
        "drop_out = Dropout(0.2)(class_1)\n",
        "class_2 = Dense(1152, activation = 'relu')(drop_out)\n",
        "output = Dense(2, activation = 'softmax')(class_2)\n",
        "\n",
        "model_02 = Model(base_model.inputs, output)\n",
        "model_02.load_weights('model_weights/vgg19_model_01.h5')\n",
        "\n",
        "set_trainable=False\n",
        "for layer in base_model.layers:\n",
        "    if layer.name in ['block5_conv4','block5_conv3']:\n",
        "        set_trainable=True\n",
        "    if set_trainable:\n",
        "        layer.trainable=True\n",
        "    else:\n",
        "        layer.trainable=False\n",
        "\n",
        "print(model_02.summary())"
      ]
    },
    {
      "cell_type": "code",
      "execution_count": null,
      "id": "c38243d2",
      "metadata": {
        "id": "c38243d2"
      },
      "outputs": [],
      "source": [
        "sgd = SGD(learning_rate=0.0001, decay = 1e-6, momentum = 0.9, nesterov = True)\n",
        "model_02.compile(loss='categorical_crossentropy', optimizer = sgd, metrics=['accuracy'])"
      ]
    },
    {
      "cell_type": "code",
      "execution_count": null,
      "id": "53bd61c9",
      "metadata": {
        "id": "53bd61c9"
      },
      "outputs": [],
      "source": [
        "history_02 = model_02.fit(train_generator, steps_per_epoch=10, epochs = 2, callbacks=[es,cp,lrr], validation_data=valid_generator)"
      ]
    },
    {
      "cell_type": "code",
      "execution_count": null,
      "id": "882ed93a",
      "metadata": {
        "id": "882ed93a"
      },
      "outputs": [],
      "source": [
        "if not os.path.isdir('model_weights/'):\n",
        "    os.mkdir('model_weights/')\n",
        "model_02.save_weights(filepath=\"model_weights/vgg19_model_02.h5\", overwrite=True)"
      ]
    },
    {
      "cell_type": "code",
      "execution_count": null,
      "id": "6e27206e",
      "metadata": {
        "id": "6e27206e"
      },
      "outputs": [],
      "source": [
        "model_02.load_weights(\"model_weights/vgg19_model_02.h5\")\n",
        "vgg_val_eval_02 = model_02.evaluate(valid_generator)\n",
        "vgg_test_eval_02 = model_02.evaluate(test_generator)"
      ]
    },
    {
      "cell_type": "code",
      "execution_count": null,
      "id": "f9cc06b0",
      "metadata": {
        "id": "f9cc06b0"
      },
      "outputs": [],
      "source": [
        "base_model = VGG19(include_top=False, input_shape=(240,240,3))\n",
        "base_model_layer_names = [layer.name for layer in base_model.layers]\n",
        "base_model_layer_names\n",
        "\n",
        "x=base_model.output\n",
        "flat = Flatten()(x)\n",
        "\n",
        "class_1 = Dense(4608, activation = 'relu')(flat)\n",
        "drop_out = Dropout(0.2)(class_1)\n",
        "class_2 = Dense(1152, activation = 'relu')(drop_out)\n",
        "output = Dense(2, activation = 'softmax')(class_2)\n",
        "\n",
        "model_03 = Model(base_model.inputs, output)\n",
        "model_03.load_weights('model_weights/vgg19_model_02.h5')\n",
        "\n",
        "sgd = SGD(learning_rate=0.0001, decay = 1e-6, momentum = 0.9, nesterov = True)\n",
        "model_03.compile(loss='categorical_crossentropy', optimizer = sgd, metrics=['accuracy'])"
      ]
    },
    {
      "cell_type": "code",
      "execution_count": null,
      "id": "46bf5c4c",
      "metadata": {
        "id": "46bf5c4c"
      },
      "outputs": [],
      "source": [
        "model_03.summary()"
      ]
    },
    {
      "cell_type": "code",
      "execution_count": null,
      "id": "eaa8841e",
      "metadata": {
        "id": "eaa8841e"
      },
      "outputs": [],
      "source": [
        "model_03.load_weights(\"model_weights/vgg_unfrozen.h5\")\n",
        "vgg_val_eval_03 = model_03.evaluate(valid_generator)\n",
        "vgg_test_eval_03 = model_03.evaluate(test_generator)"
      ]
    },
    {
      "cell_type": "code",
      "execution_count": null,
      "id": "f75839b9",
      "metadata": {
        "id": "f75839b9"
      },
      "outputs": [],
      "source": []
    }
  ],
  "metadata": {
    "kernelspec": {
      "display_name": "Python 3 (ipykernel)",
      "language": "python",
      "name": "python3"
    },
    "language_info": {
      "codemirror_mode": {
        "name": "ipython",
        "version": 3
      },
      "file_extension": ".py",
      "mimetype": "text/x-python",
      "name": "python",
      "nbconvert_exporter": "python",
      "pygments_lexer": "ipython3",
      "version": "3.11.7"
    },
    "colab": {
      "provenance": [],
      "include_colab_link": true
    }
  },
  "nbformat": 4,
  "nbformat_minor": 5
}